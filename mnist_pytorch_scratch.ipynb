{
 "cells": [
  {
   "cell_type": "code",
   "execution_count": 3,
   "id": "1b717463-b681-4b7a-a791-8d6c61437c7c",
   "metadata": {},
   "outputs": [],
   "source": [
    "# MNIST on PyTorch from \"scratch\" (no optimizer)\n",
    "\n",
    "import torch\n",
    "import requests, gzip, os, hashlib, tempfile\n",
    "import numpy as np"
   ]
  },
  {
   "cell_type": "code",
   "execution_count": 4,
   "id": "6cbbff70-efba-4f17-91af-4125289f4974",
   "metadata": {},
   "outputs": [],
   "source": [
    "def fetch(url):\n",
    "    temp_dir = tempfile.gettempdir()\n",
    "    file_path = os.path.join(temp_dir, hashlib.md5(url.encode('utf-8')).hexdigest())\n",
    "\n",
    "    # if exists don't redownload\n",
    "    if os.path.isfile(file_path):\n",
    "        with open(file_path, \"rb\") as file:\n",
    "            data = file.read()\n",
    "    else:\n",
    "        with open(file_path, \"wb\") as file:\n",
    "            data = requests.get(url).content\n",
    "            file.write(data)\n",
    "\n",
    "    return np.frombuffer(gzip.decompress(data), dtype=np.uint8).copy()"
   ]
  },
  {
   "cell_type": "code",
   "execution_count": 5,
   "id": "88a506ab-a4c2-4c2f-aec4-4df1ba58ac78",
   "metadata": {},
   "outputs": [],
   "source": [
    "import random\n",
    "import torch.nn.functional as F\n",
    "\n",
    "class MNIST_MLP():\n",
    "    def __init__(self, device):\n",
    "        self.w1 = torch.randn(512, 784, requires_grad=True, device=device)\n",
    "        self.b1 = torch.zeros(512, requires_grad=True, device=device) \n",
    "        self.w2 = torch.randn(10, 512, requires_grad=True, device=device)\n",
    "        self.b2 = torch.zeros(10, requires_grad=True, device=device)\n",
    "        self.relu = torch.nn.ReLU()\n",
    "        self.ce_loss = torch.nn.CrossEntropyLoss()\n",
    "        \n",
    "    def train(self, x, y, batch_size, iterations, learning_rate):\n",
    "        y = y.long() if isinstance(y, torch.Tensor) else torch.tensor(y, dtype=torch.long)\n",
    "\n",
    "        # normalize\n",
    "        if x.max() > 1.0:\n",
    "            x = x / 255.0\n",
    "\n",
    "        for _ in range(iterations):\n",
    "            sample_start = random.randint(0, len(x) - batch_size)\n",
    "            x_sample = x[sample_start:sample_start + batch_size]\n",
    "            y_sample = y[sample_start:sample_start + batch_size]\n",
    "            \n",
    "             # forward\n",
    "            act = self.relu(F.linear(x_sample, self.w1, self.b1))\n",
    "            lin2 = F.linear(act, self.w2, self.b2)\n",
    "            \n",
    "            # calculate loss\n",
    "            loss = self.ce_loss(lin2, y_sample)\n",
    "            \n",
    "            # backward\n",
    "            if self.w1.grad != None: self.w1.grad.zero_()\n",
    "            if self.b1.grad != None: self.b1.grad.zero_()\n",
    "            if self.w2.grad != None: self.w2.grad.zero_()\n",
    "            if self.b2.grad != None: self.b2.grad.zero_()\n",
    "            \n",
    "            loss.backward()\n",
    "            \n",
    "            self.w1.data -= (learning_rate * self.w1.grad)\n",
    "            self.b1.data -= (learning_rate * self.b1.grad)\n",
    "            \n",
    "            self.w2.data -= (learning_rate * self.w2.grad)\n",
    "            self.b2.data -= (learning_rate * self.b2.grad)\n",
    "\n",
    "        print(f\"training loss: {loss}\")\n",
    "\n",
    "    def sample(self, x, y):\n",
    "        if x.max() > 1.0:\n",
    "            x = x / 255.0\n",
    "        y = y.long() if isinstance(y, torch.Tensor) else torch.tensor(y, dtype=torch.long)\n",
    "        act = self.relu(F.linear(x, self.w1, self.b1))        \n",
    "        lin2 = F.linear(act, self.w2, self.b2)\n",
    "        softmax = F.softmax(lin2, dim=1)\n",
    "\n",
    "        correct = 0\n",
    "        for prediction, actual in zip(softmax, y):\n",
    "            if torch.argmax(prediction) == actual:\n",
    "                correct += 1\n",
    "\n",
    "        accuracy = correct / len(y)\n",
    "        print(f\"accuracy on test set: {accuracy}\")\n",
    "        \n",
    "        loss = self.ce_loss(lin2, y)\n",
    "        print(f\"sample loss: {loss}\")"
   ]
  },
  {
   "cell_type": "code",
   "execution_count": 6,
   "id": "4aa5aa45-9401-4551-bc3c-2c3067c7be59",
   "metadata": {},
   "outputs": [],
   "source": [
    "import time\n",
    "\n",
    "def run_mnist(use_cuda):\n",
    "    x_train = torch.Tensor(fetch(\"https://raw.githubusercontent.com/fgnt/mnist/master/train-images-idx3-ubyte.gz\")[16:].reshape(-1, 28, 28))\n",
    "    y_train = torch.Tensor(fetch(\"https://raw.githubusercontent.com/fgnt/mnist/master/train-labels-idx1-ubyte.gz\")[8:])\n",
    "    x_test = torch.Tensor(fetch(\"https://raw.githubusercontent.com/fgnt/mnist/master/t10k-images-idx3-ubyte.gz\")[16:].reshape(-1, 28, 28))\n",
    "    y_test = torch.Tensor(fetch(\"https://raw.githubusercontent.com/fgnt/mnist/master/t10k-labels-idx1-ubyte.gz\")[8:])\n",
    "\n",
    "    x_train = x_train.view(60000, -1)\n",
    "    x_test = x_test.view(10000, -1)\n",
    "    \n",
    "    device = torch.device(\"cpu\")\n",
    "    if use_cuda:\n",
    "        device = torch.device(\"cuda\") if torch.cuda.is_available() else torch.device(\"cpu\")\n",
    "        \n",
    "    mnist_mlp = MNIST_MLP(device)\n",
    "    if device == torch.device(\"cuda\"):\n",
    "        print(\"Using CUDA\")\n",
    "        x_train = x_train.to(\"cuda\")\n",
    "        y_train = y_train.to(\"cuda\")\n",
    "        x_test = x_test.to(\"cuda\")\n",
    "        y_test = y_test.to(\"cuda\")\n",
    "    else:\n",
    "        print(\"Using CPU\")\n",
    "        \n",
    "    start = time.time()\n",
    "    mnist_mlp.train(x_train, y_train, 60, 50000, 0.01)\n",
    "    mnist_mlp.sample(x_test, y_test)\n",
    "    print(\"--- %s seconds ---\" % (time.time() - start))"
   ]
  },
  {
   "cell_type": "code",
   "execution_count": 7,
   "id": "6f35e6c6-f239-4d00-9d07-4253425c33be",
   "metadata": {},
   "outputs": [
    {
     "name": "stdout",
     "output_type": "stream",
     "text": [
      "Using CUDA\n",
      "training loss: 0.17054659128189087\n",
      "accuracy on test set: 0.9422\n",
      "sample loss: 1.6557892560958862\n",
      "--- 40.78183078765869 seconds ---\n"
     ]
    }
   ],
   "source": [
    "run_mnist(True)"
   ]
  },
  {
   "cell_type": "code",
   "execution_count": 8,
   "id": "e85862ad-b9a6-45fd-81a2-bf362af76d33",
   "metadata": {},
   "outputs": [
    {
     "name": "stdout",
     "output_type": "stream",
     "text": [
      "Using CPU\n",
      "training loss: 3.4570373941278376e-07\n",
      "accuracy on test set: 0.94\n",
      "sample loss: 1.6168708801269531\n",
      "--- 490.6525583267212 seconds ---\n"
     ]
    }
   ],
   "source": [
    "run_mnist(False)"
   ]
  },
  {
   "cell_type": "code",
   "execution_count": null,
   "id": "1edf3cb5-01c3-4009-b887-21cb2f16fb1e",
   "metadata": {},
   "outputs": [],
   "source": []
  }
 ],
 "metadata": {
  "kernelspec": {
   "display_name": "Python 3 (ipykernel)",
   "language": "python",
   "name": "python3"
  },
  "language_info": {
   "codemirror_mode": {
    "name": "ipython",
    "version": 3
   },
   "file_extension": ".py",
   "mimetype": "text/x-python",
   "name": "python",
   "nbconvert_exporter": "python",
   "pygments_lexer": "ipython3",
   "version": "3.10.12"
  }
 },
 "nbformat": 4,
 "nbformat_minor": 5
}
