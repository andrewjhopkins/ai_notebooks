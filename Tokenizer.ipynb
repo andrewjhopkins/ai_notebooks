{
 "cells": [
  {
   "cell_type": "code",
   "execution_count": 1,
   "id": "f676d547-0f5f-4d04-8382-401b76d7486c",
   "metadata": {},
   "outputs": [],
   "source": [
    "# Tokenizer"
   ]
  },
  {
   "cell_type": "code",
   "execution_count": 3,
   "id": "216907e7-cc19-48b5-9af5-5404b71ba08d",
   "metadata": {},
   "outputs": [
    {
     "data": {
      "text/plain": [
       "104"
      ]
     },
     "execution_count": 3,
     "metadata": {},
     "output_type": "execute_result"
    }
   ],
   "source": [
    "# What are characters in Python?\n",
    "# Unicode\n",
    "ord(\"h\")"
   ]
  },
  {
   "cell_type": "code",
   "execution_count": 4,
   "id": "0f8eb532-66c1-459b-b4ef-f20c69521173",
   "metadata": {},
   "outputs": [],
   "source": [
    "# Unicode standard keeps changing, not stable representation, shouldn't use directly\n",
    "# Unicode standard defines three encodings UTF-8, UTF-16, UTF-32"
   ]
  },
  {
   "cell_type": "code",
   "execution_count": 8,
   "id": "ed345483-5093-4a36-988a-fe7a72e305aa",
   "metadata": {},
   "outputs": [
    {
     "data": {
      "text/plain": [
       "[104, 101, 108, 108, 111]"
      ]
     },
     "execution_count": 8,
     "metadata": {},
     "output_type": "execute_result"
    }
   ],
   "source": [
    "# raw bytes according to uft-8 encoding\n",
    "list(\"hello\".encode(\"utf-8\"))"
   ]
  },
  {
   "cell_type": "code",
   "execution_count": 9,
   "id": "b3bd9d11-cbb4-4c09-9bac-796f496b630f",
   "metadata": {},
   "outputs": [],
   "source": [
    "# naively using just utf-8 would only produce a vocab size of 256\n",
    "# long sequences of tokens and bytes, will not be able to support sufficiently long context\n",
    "# solution: compress with byte-pair encoding algorithm\n",
    "    # ex. aaabdaaabac\n",
    "        # byte pair \"aa\" occurs most often, replaced with a byte not used in data such as \"Z\"\n",
    "        # becomes ZabdZabac (with Z = \"aa\")\n",
    "        # continue for next most frequent pair"
   ]
  },
  {
   "cell_type": "code",
   "execution_count": 10,
   "id": "0c60a582-6add-4487-a3db-48b6a3c7f149",
   "metadata": {},
   "outputs": [],
   "source": [
    "# goal is to one day feed raw bytes into transformer\n",
    "    # paper: MegaByte: Predicting Million-byte Sequences with Multiscale Transformers"
   ]
  },
  {
   "cell_type": "code",
   "execution_count": null,
   "id": "363e73e9-b0ce-4397-b206-5a9486d33849",
   "metadata": {},
   "outputs": [],
   "source": []
  }
 ],
 "metadata": {
  "kernelspec": {
   "display_name": "Python 3 (ipykernel)",
   "language": "python",
   "name": "python3"
  },
  "language_info": {
   "codemirror_mode": {
    "name": "ipython",
    "version": 3
   },
   "file_extension": ".py",
   "mimetype": "text/x-python",
   "name": "python",
   "nbconvert_exporter": "python",
   "pygments_lexer": "ipython3",
   "version": "3.10.12"
  }
 },
 "nbformat": 4,
 "nbformat_minor": 5
}
