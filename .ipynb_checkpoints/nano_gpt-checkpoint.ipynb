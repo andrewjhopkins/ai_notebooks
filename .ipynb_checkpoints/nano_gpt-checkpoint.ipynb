{
 "cells": [
  {
   "cell_type": "code",
   "execution_count": 2,
   "id": "9c61dc97-63e6-4ed0-8432-681785b6aac2",
   "metadata": {},
   "outputs": [],
   "source": [
    "# https://www.youtube.com/watch?v=kCc8FmEb1nY&t=3562s\n",
    "import torch\n",
    "import numpy as np"
   ]
  },
  {
   "cell_type": "code",
   "execution_count": 3,
   "id": "71526e66-15a5-42c4-85f4-00d39689859c",
   "metadata": {},
   "outputs": [],
   "source": [
    "# Generatively pretrained transformer\n",
    "# transformer neural net\n",
    "# https://arxiv.org/pdf/1706.03762.pdf\n",
    "# character level transformer based model"
   ]
  },
  {
   "cell_type": "code",
   "execution_count": 4,
   "id": "d97028ac-08cb-4eb0-b5c8-b29e17c46dfb",
   "metadata": {},
   "outputs": [],
   "source": [
    "# data: https://raw.githubusercontent.com/karpathy/ng-video-lecture/master/input.txt"
   ]
  },
  {
   "cell_type": "code",
   "execution_count": 5,
   "id": "43b092fd-b38a-4e0d-81e9-36785bc8c9e9",
   "metadata": {},
   "outputs": [],
   "source": [
    "# given characters in a sequence, predict the next characters"
   ]
  },
  {
   "cell_type": "code",
   "execution_count": 6,
   "id": "39485760-bb77-43f6-b093-0eda3ab51b00",
   "metadata": {},
   "outputs": [],
   "source": [
    "with open(\"input.txt\", \"r\", encoding=\"utf-8\") as f:\n",
    "    text = f.read()"
   ]
  },
  {
   "cell_type": "code",
   "execution_count": 7,
   "id": "008675b7-b548-4292-bccb-bf5b3a0493ac",
   "metadata": {},
   "outputs": [
    {
     "name": "stdout",
     "output_type": "stream",
     "text": [
      "length of dataset in characters:  1115394\n"
     ]
    }
   ],
   "source": [
    "print(\"length of dataset in characters: \", len(text))"
   ]
  },
  {
   "cell_type": "code",
   "execution_count": 8,
   "id": "0c030903-7eb4-47c4-87fc-3fbb00902d57",
   "metadata": {},
   "outputs": [
    {
     "name": "stdout",
     "output_type": "stream",
     "text": [
      "First Citizen:\n",
      "Before we proceed any further, hear me speak.\n",
      "\n",
      "All:\n",
      "Speak, speak.\n",
      "\n",
      "First Citizen:\n",
      "You are all resolved rather to die than to famish?\n",
      "\n",
      "All:\n",
      "Resolved. resolved.\n",
      "\n",
      "First Citizen:\n",
      "First, you know Caius Marcius is chief enemy to the people.\n",
      "\n",
      "All:\n",
      "We know't, we know't.\n",
      "\n",
      "First Citizen:\n",
      "Let us kill him, and we'll have corn at our own price.\n",
      "Is't a verdict?\n",
      "\n",
      "All:\n",
      "No more talking on't; let it be done: away, away!\n",
      "\n",
      "Second Citizen:\n",
      "One word, good citizens.\n",
      "\n",
      "First Citizen:\n",
      "We are accounted poor\n"
     ]
    }
   ],
   "source": [
    "print(text[:500])"
   ]
  },
  {
   "cell_type": "code",
   "execution_count": 9,
   "id": "2a45cef5-c673-4e2e-91b8-0f5d01099de1",
   "metadata": {},
   "outputs": [
    {
     "name": "stdout",
     "output_type": "stream",
     "text": [
      "\n",
      " !$&',-.3:;?ABCDEFGHIJKLMNOPQRSTUVWXYZabcdefghijklmnopqrstuvwxyz\n",
      "65\n"
     ]
    }
   ],
   "source": [
    "# get all unique characters that occur in the text\n",
    "chars = sorted(list(set(text)))\n",
    "vocab_size = len(chars)\n",
    "print(\"\".join(chars))\n",
    "print(vocab_size)"
   ]
  },
  {
   "cell_type": "code",
   "execution_count": 10,
   "id": "a5f5e7ee-e8e4-4358-b17a-7fd83980eec6",
   "metadata": {},
   "outputs": [
    {
     "name": "stdout",
     "output_type": "stream",
     "text": [
      "[46, 47, 47, 1, 58, 46, 43, 56, 43]\n",
      "hii there\n"
     ]
    }
   ],
   "source": [
    "# create a mapping form characters to integers\n",
    "stoi = { ch:i for i,ch in enumerate(chars) }\n",
    "itos = { i:ch for i,ch in enumerate(chars) }\n",
    "encode = lambda s: [stoi[c] for c in s] # encoder: take a string, output a list of integers\n",
    "decode = lambda l: \"\".join(itos[i] for i in l) # decoder: take a list of integers, output a string\n",
    "\n",
    "print(encode(\"hii there\"))\n",
    "print(decode(encode(\"hii there\")))"
   ]
  },
  {
   "cell_type": "code",
   "execution_count": 11,
   "id": "248229e7-95c9-4ec5-a6e6-029866696085",
   "metadata": {},
   "outputs": [
    {
     "name": "stdout",
     "output_type": "stream",
     "text": [
      "torch.Size([1115394]) torch.int64\n",
      "tensor([18, 47, 56, 57, 58,  1, 15, 47, 58, 47, 64, 43, 52, 10,  0, 14, 43, 44,\n",
      "        53, 56, 43,  1, 61, 43,  1, 54, 56, 53, 41, 43, 43, 42,  1, 39, 52, 63,\n",
      "         1, 44, 59, 56, 58, 46, 43, 56,  6,  1, 46, 43, 39, 56,  1, 51, 43,  1,\n",
      "        57, 54, 43, 39, 49,  8,  0,  0, 13, 50, 50, 10,  0, 31, 54, 43, 39, 49,\n",
      "         6,  1, 57, 54, 43, 39, 49,  8,  0,  0, 18, 47, 56, 57, 58,  1, 15, 47,\n",
      "        58, 47, 64, 43, 52, 10,  0, 37, 53, 59,  1, 39, 56, 43,  1, 39, 50, 50,\n",
      "         1, 56, 43, 57, 53, 50, 60, 43, 42,  1, 56, 39, 58, 46, 43, 56,  1, 58,\n",
      "        53,  1, 42, 47, 43,  1, 58, 46, 39, 52,  1, 58, 53,  1, 44, 39, 51, 47,\n",
      "        57, 46, 12,  0,  0, 13, 50, 50, 10,  0, 30, 43, 57, 53, 50, 60, 43, 42,\n",
      "         8,  1, 56, 43, 57, 53, 50, 60, 43, 42,  8,  0,  0, 18, 47, 56, 57, 58,\n",
      "         1, 15, 47, 58, 47, 64, 43, 52, 10,  0, 18, 47, 56, 57, 58,  6,  1, 63,\n",
      "        53, 59,  1, 49, 52, 53, 61,  1, 15, 39, 47, 59, 57,  1, 25, 39, 56, 41,\n",
      "        47, 59, 57,  1, 47, 57,  1, 41, 46, 47, 43, 44,  1, 43, 52, 43, 51, 63,\n",
      "         1, 58, 53,  1, 58, 46, 43,  1, 54, 43, 53, 54, 50, 43,  8,  0,  0, 13,\n",
      "        50, 50, 10,  0, 35, 43,  1, 49, 52, 53, 61,  5, 58,  6,  1, 61, 43,  1,\n",
      "        49, 52, 53, 61,  5, 58,  8,  0,  0, 18, 47, 56, 57, 58,  1, 15, 47, 58,\n",
      "        47, 64, 43, 52, 10,  0, 24, 43, 58,  1, 59, 57,  1, 49, 47, 50, 50,  1,\n",
      "        46, 47, 51,  6,  1, 39, 52, 42,  1, 61, 43,  5, 50, 50,  1, 46, 39, 60,\n",
      "        43,  1, 41, 53, 56, 52,  1, 39, 58,  1, 53, 59, 56,  1, 53, 61, 52,  1,\n",
      "        54, 56, 47, 41, 43,  8,  0, 21, 57,  5, 58,  1, 39,  1, 60, 43, 56, 42,\n",
      "        47, 41, 58, 12,  0,  0, 13, 50, 50, 10,  0, 26, 53,  1, 51, 53, 56, 43,\n",
      "         1, 58, 39, 50, 49, 47, 52, 45,  1, 53, 52,  5, 58, 11,  1, 50, 43, 58,\n",
      "         1, 47, 58,  1, 40, 43,  1, 42, 53, 52, 43, 10,  1, 39, 61, 39, 63,  6,\n",
      "         1, 39, 61, 39, 63,  2,  0,  0, 31, 43, 41, 53, 52, 42,  1, 15, 47, 58,\n",
      "        47, 64, 43, 52, 10,  0, 27, 52, 43,  1, 61, 53, 56, 42,  6,  1, 45, 53,\n",
      "        53, 42,  1, 41, 47, 58, 47, 64, 43, 52, 57,  8,  0,  0, 18, 47, 56, 57,\n",
      "        58,  1, 15, 47, 58, 47, 64, 43, 52, 10,  0, 35, 43,  1, 39, 56, 43,  1,\n",
      "        39, 41, 41, 53, 59, 52, 58, 43, 42,  1, 54, 53, 53, 56])\n"
     ]
    }
   ],
   "source": [
    "# encode dataset into tensor\n",
    "data = torch.tensor(encode(text), dtype=torch.long)\n",
    "print(data.shape, data.dtype)\n",
    "print(data[:500]) #  encoded characters from above"
   ]
  },
  {
   "cell_type": "code",
   "execution_count": 12,
   "id": "b946d3ad-82e5-431a-8cd2-ea4f19be7f9f",
   "metadata": {},
   "outputs": [],
   "source": [
    "# split data into train and validation\n",
    "n = int(0.9*len(data)) # first 90% will train, rest val\n",
    "train_data = data[:n]\n",
    "val_data = data[n:]"
   ]
  },
  {
   "cell_type": "code",
   "execution_count": 13,
   "id": "f69506d0-c72f-4893-bbc6-8015d7ae289c",
   "metadata": {},
   "outputs": [
    {
     "data": {
      "text/plain": [
       "tensor([18, 47, 56, 57, 58,  1, 15, 47, 58])"
      ]
     },
     "execution_count": 13,
     "metadata": {},
     "output_type": "execute_result"
    }
   ],
   "source": [
    "# train on dataset using chunks\n",
    "block_size = 8\n",
    "\n",
    "# in a chunk of 9, 8 individual examples packed in\n",
    "# in context of 18 -> 47\n",
    "# in context of 18, 47 - 56\n",
    "train_data[:block_size+1]"
   ]
  },
  {
   "cell_type": "code",
   "execution_count": 14,
   "id": "bb366c0f-477a-4339-90f7-10ea402ac6aa",
   "metadata": {},
   "outputs": [
    {
     "name": "stdout",
     "output_type": "stream",
     "text": [
      "when input is tensor([18]) the target: 47\n",
      "when input is tensor([18, 47]) the target: 56\n",
      "when input is tensor([18, 47, 56]) the target: 57\n",
      "when input is tensor([18, 47, 56, 57]) the target: 58\n",
      "when input is tensor([18, 47, 56, 57, 58]) the target: 1\n",
      "when input is tensor([18, 47, 56, 57, 58,  1]) the target: 15\n",
      "when input is tensor([18, 47, 56, 57, 58,  1, 15]) the target: 47\n",
      "when input is tensor([18, 47, 56, 57, 58,  1, 15, 47]) the target: 58\n"
     ]
    }
   ],
   "source": [
    "x = train_data[:block_size]\n",
    "y = train_data[1:block_size+1]\n",
    "for t in range(block_size):\n",
    "    context = x[:t+1]\n",
    "    target = y[t]\n",
    "    print(f\"when input is {context} the target: {target}\")"
   ]
  },
  {
   "cell_type": "code",
   "execution_count": 15,
   "id": "818cd3db-ed2d-4f94-8872-0bb544a10442",
   "metadata": {},
   "outputs": [
    {
     "name": "stdout",
     "output_type": "stream",
     "text": [
      "inputs:\n",
      "torch.Size([4, 8])\n",
      "tensor([[24, 43, 58,  5, 57,  1, 46, 43],\n",
      "        [44, 53, 56,  1, 58, 46, 39, 58],\n",
      "        [52, 58,  1, 58, 46, 39, 58,  1],\n",
      "        [25, 17, 27, 10,  0, 21,  1, 54]])\n",
      "targets:\n",
      "torch.Size([4, 8])\n",
      "tensor([[43, 58,  5, 57,  1, 46, 43, 39],\n",
      "        [53, 56,  1, 58, 46, 39, 58,  1],\n",
      "        [58,  1, 58, 46, 39, 58,  1, 46],\n",
      "        [17, 27, 10,  0, 21,  1, 54, 39]])\n",
      "----\n",
      "(when input is [24] the target: 43\n",
      "(when input is [24, 43] the target: 58\n",
      "(when input is [24, 43, 58] the target: 5\n",
      "(when input is [24, 43, 58, 5] the target: 57\n",
      "(when input is [24, 43, 58, 5, 57] the target: 1\n",
      "(when input is [24, 43, 58, 5, 57, 1] the target: 46\n",
      "(when input is [24, 43, 58, 5, 57, 1, 46] the target: 43\n",
      "(when input is [24, 43, 58, 5, 57, 1, 46, 43] the target: 39\n",
      "(when input is [44] the target: 53\n",
      "(when input is [44, 53] the target: 56\n",
      "(when input is [44, 53, 56] the target: 1\n",
      "(when input is [44, 53, 56, 1] the target: 58\n",
      "(when input is [44, 53, 56, 1, 58] the target: 46\n",
      "(when input is [44, 53, 56, 1, 58, 46] the target: 39\n",
      "(when input is [44, 53, 56, 1, 58, 46, 39] the target: 58\n",
      "(when input is [44, 53, 56, 1, 58, 46, 39, 58] the target: 1\n",
      "(when input is [52] the target: 58\n",
      "(when input is [52, 58] the target: 1\n",
      "(when input is [52, 58, 1] the target: 58\n",
      "(when input is [52, 58, 1, 58] the target: 46\n",
      "(when input is [52, 58, 1, 58, 46] the target: 39\n",
      "(when input is [52, 58, 1, 58, 46, 39] the target: 58\n",
      "(when input is [52, 58, 1, 58, 46, 39, 58] the target: 1\n",
      "(when input is [52, 58, 1, 58, 46, 39, 58, 1] the target: 46\n",
      "(when input is [25] the target: 17\n",
      "(when input is [25, 17] the target: 27\n",
      "(when input is [25, 17, 27] the target: 10\n",
      "(when input is [25, 17, 27, 10] the target: 0\n",
      "(when input is [25, 17, 27, 10, 0] the target: 21\n",
      "(when input is [25, 17, 27, 10, 0, 21] the target: 1\n",
      "(when input is [25, 17, 27, 10, 0, 21, 1] the target: 54\n",
      "(when input is [25, 17, 27, 10, 0, 21, 1, 54] the target: 39\n"
     ]
    }
   ],
   "source": [
    "# mini batches of multiple blocks of text\n",
    "torch.manual_seed(1337)\n",
    "batch_size = 4 # how many independent sequences we process in parallel?\n",
    "block_size = 8 # max context length for predictions\n",
    "\n",
    "def get_batch(split):\n",
    "    # generate a small batch of data of inputs x and targets y\n",
    "    data = train_data if split == \"train\" else val_data\n",
    "    ix = torch.randint(len(data) - block_size, (batch_size,))\n",
    "    x = torch.stack([data[i:i+block_size] for i in ix])\n",
    "    y = torch.stack([data[i+1:i+block_size+1] for i in ix])\n",
    "    return x, y\n",
    "\n",
    "xb, yb = get_batch(\"train\")\n",
    "print(\"inputs:\")\n",
    "print(xb.shape)\n",
    "print(xb)\n",
    "print(\"targets:\")\n",
    "print(yb.shape)\n",
    "print(yb)\n",
    "\n",
    "print(\"----\")\n",
    "\n",
    "for b in range(batch_size): # batch dimension\n",
    "    for t in range(block_size): # time dimension\n",
    "        context = xb[b, :t+1]\n",
    "        target = yb[b,t]\n",
    "        print(f\"(when input is {context.tolist()} the target: {target}\")"
   ]
  },
  {
   "cell_type": "code",
   "execution_count": 16,
   "id": "fc054162-3821-4042-9bf4-05569382c3b3",
   "metadata": {},
   "outputs": [],
   "source": [
    "# each 4 x 8 array contains 32 individual training examples"
   ]
  },
  {
   "cell_type": "code",
   "execution_count": 35,
   "id": "443e5df8-b252-40a4-aebe-2238c21cca00",
   "metadata": {},
   "outputs": [
    {
     "name": "stdout",
     "output_type": "stream",
     "text": [
      "torch.Size([32, 65])\n",
      "tensor(4.8786, grad_fn=<NllLossBackward0>)\n"
     ]
    }
   ],
   "source": [
    "import torch.nn as nn\n",
    "from torch.nn import functional as F\n",
    "torch.manual_seed(1337)\n",
    "\n",
    "class BigramLanguageModel(nn.Module):\n",
    "    def __init__(self, vocab_size):\n",
    "        super().__init__()\n",
    "        # each token directly reads off the logits for the next token from a lookup table\n",
    "        self.token_embedding_table = nn.Embedding(vocab_size, vocab_size)\n",
    "\n",
    "    def forward(self, idx, targets=None):\n",
    "        # idx and targets are both (B,T) tensor of integers\n",
    "        # B = batch (4), T = time (8), C = channels/vocab size (65)\n",
    "        logits = self.token_embedding_table(idx) # (B,T,C)\n",
    "\n",
    "        if targets is None:\n",
    "            loss = None\n",
    "        else:\n",
    "            # need to reshape it for cross entropy function\n",
    "            B, T, C = logits.shape\n",
    "            logits = logits.view(B*T, C)\n",
    "            targets = targets.view(B*T)\n",
    "            loss = F.cross_entropy(logits, targets)\n",
    "            \n",
    "        return logits, loss\n",
    "\n",
    "    # bigram model (only looking at the single previous character right now)\n",
    "    def generate(self, idx, max_new_tokens):\n",
    "        # idx is (B, T) array of indicies in the current context\n",
    "        for _ in range(max_new_tokens):\n",
    "            # get predictions\n",
    "            logits, loss = self(idx)\n",
    "            # focus only on the last time step\n",
    "            logits = logits[:, -1, :]# becomes (B, C)\n",
    "            # apply softmax to the probabilities\n",
    "            probs = F.softmax(logits, dim=-1) # (B, C)\n",
    "            # sample from the distribution\n",
    "            idx_next = torch.multinomial(probs, num_samples=1) # (B, 1)\n",
    "            # append sampled index to the running sequence\n",
    "            idx = torch.cat((idx, idx_next), dim=1) # (B, T+1)\n",
    "        return idx\n",
    "\n",
    "m = BigramLanguageModel(vocab_size)\n",
    "logits, loss = m(xb, yb) # xb inputs, yb targets\n",
    "print(logits.shape)\n",
    "print(loss)"
   ]
  },
  {
   "cell_type": "code",
   "execution_count": 33,
   "id": "f5511900-43df-438a-8ade-8ac9451b7c96",
   "metadata": {},
   "outputs": [],
   "source": [
    "# negative log likelihood -ln(1/65) = 4.17"
   ]
  },
  {
   "cell_type": "code",
   "execution_count": 38,
   "id": "ebb3fdd8-a84c-4b7f-aa86-78f665b07c2d",
   "metadata": {},
   "outputs": [
    {
     "name": "stdout",
     "output_type": "stream",
     "text": [
      "\n",
      "Sr?qP-QWktXoL&jLDJgOLVz'RIoDqHdhsV&vLLxatjscMpwLERSPyao.qfzs$Ys$zF-w,;eEkzxjgCKFChs!iWW.ObzDnxA Ms$3\n"
     ]
    }
   ],
   "source": [
    "# kick of generation with 0 == \"new line character\"\n",
    "idx = torch.zeros((1, 1), dtype=torch.long)\n",
    "print(decode(m.generate(idx, max_new_tokens=100)[0].tolist()))"
   ]
  },
  {
   "cell_type": "code",
   "execution_count": 39,
   "id": "7451a241-bd07-4d4f-adff-57dbbd515f42",
   "metadata": {},
   "outputs": [],
   "source": [
    "# train the model"
   ]
  },
  {
   "cell_type": "code",
   "execution_count": 40,
   "id": "6fb87d69-591e-4a1e-ba18-b53f418d9c0f",
   "metadata": {},
   "outputs": [],
   "source": [
    "# PyTorch optimizer\n",
    "optimizer = torch.optim.AdamW(m.parameters(), lr=1e-3)"
   ]
  },
  {
   "cell_type": "code",
   "execution_count": 49,
   "id": "c2093bcb-893b-4abc-9ff9-39f614d088eb",
   "metadata": {},
   "outputs": [
    {
     "name": "stdout",
     "output_type": "stream",
     "text": [
      "2.5580098628997803\n"
     ]
    }
   ],
   "source": [
    "batch_size = 32\n",
    "for steps in range(10000):\n",
    "    # sample a batch of data\n",
    "    xb, yb = get_batch(\"train\")\n",
    "\n",
    "    # evaluate the loss\n",
    "    logits, loss = m(xb, yb)\n",
    "    optimizer.zero_grad(set_to_none=True)\n",
    "    loss.backward()\n",
    "    optimizer.step()\n",
    "print(loss.item())"
   ]
  },
  {
   "cell_type": "code",
   "execution_count": 51,
   "id": "e3081711-d713-496a-824b-1b4dbb3ba9d3",
   "metadata": {},
   "outputs": [
    {
     "name": "stdout",
     "output_type": "stream",
     "text": [
      "\n",
      "HAnon,\n",
      "Shabes, fieaye kellar we gr mpanou s this?\n",
      "\n",
      "Noflp\n",
      "Ron:\n",
      "OME trdovy\n",
      "IO:\n",
      "Or so waco is. he s!\n",
      "CI I w'd Pordervet ld, temofostrurd tiomy Proute we g gary outhend le, le, yed rat y ay m.\n",
      "\n",
      "nd, yorix$Jave ed thais, mea l herirnonais ire mo par,\n",
      "OFOnealle qu f t atary meee dd il thy fitito-the ssd ovel y hathe, qun s;\n",
      "LO tond t, oullke CIARicousangh'dlke, y lorveloveninde searslly otharomeligse ang we tost aiey astougrr thenou beg ROWheagh thowe louitheay d higharyorer; hondsore:\n",
      "HA yen su thinen histhe psth\n",
      "\n",
      "Braloulfay turaveispthe herlin.\n",
      "Win guavatet o, l wimove ht ad s bus Ancence, mm, ale bratis perd We wie,\n",
      "Prd a sind tonu, hithe th f tou seemapd, s s, nd be fit DED:\n",
      "YCheass w; y 's, himbyowon, mouta?\n",
      "Sis ngs isuse\n",
      "I more tsto windel f mo he.\n",
      "ONVit th wewoa be, aghe r wed omprund iteacelin eiveroourpp'lll Sce f ou t he, he; twe; minnts clin touly ilonand;\n",
      "\n",
      "t mucy hre s INVORAnke angu owiscanoresch woup VI hanhe edade bhalemes y hare ay\n",
      "And wace ppor wnd con s,\n",
      "BEThar airtours. t m\n"
     ]
    }
   ],
   "source": [
    "# improvement compared to above\n",
    "print(decode(m.generate(idx, max_new_tokens=1000)[0].tolist()))"
   ]
  },
  {
   "cell_type": "code",
   "execution_count": 52,
   "id": "ff6ae69d-096f-406b-b097-ae1968d980a8",
   "metadata": {},
   "outputs": [],
   "source": [
    "# simple bigram neural net model"
   ]
  },
  {
   "cell_type": "code",
   "execution_count": 54,
   "id": "37a1e0da-768c-4f6d-98a6-fd0fa7e33ea0",
   "metadata": {},
   "outputs": [
    {
     "data": {
      "text/plain": [
       "torch.Size([4, 8, 2])"
      ]
     },
     "execution_count": 54,
     "metadata": {},
     "output_type": "execute_result"
    }
   ],
   "source": [
    "# mathematical trick in self attention\n",
    "torch.manual_seed(1337)\n",
    "B,T,C = 4,8,2 # batch, time, channels\n",
    "x = torch.randn(B,T,C)\n",
    "x.shape"
   ]
  },
  {
   "cell_type": "code",
   "execution_count": null,
   "id": "a7f56e53-a29d-4214-856b-82b2bc6d69ca",
   "metadata": {},
   "outputs": [],
   "source": []
  }
 ],
 "metadata": {
  "kernelspec": {
   "display_name": "Python 3 (ipykernel)",
   "language": "python",
   "name": "python3"
  },
  "language_info": {
   "codemirror_mode": {
    "name": "ipython",
    "version": 3
   },
   "file_extension": ".py",
   "mimetype": "text/x-python",
   "name": "python",
   "nbconvert_exporter": "python",
   "pygments_lexer": "ipython3",
   "version": "3.10.13"
  }
 },
 "nbformat": 4,
 "nbformat_minor": 5
}
