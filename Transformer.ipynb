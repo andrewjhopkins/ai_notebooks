{
 "cells": [
  {
   "cell_type": "code",
   "execution_count": 1,
   "id": "6df2c744-845e-4dd2-b590-9f02de98c560",
   "metadata": {},
   "outputs": [],
   "source": [
    "# https://fkodom.substack.com/p/transformers-from-scratch-in-pytorch\n",
    "# scaled dot product attention\n",
    "# Q, K, V batches of matrices with shape (batch_size, seq_length, num_features)\n",
    "# Multiplying the query (Q) and key (K) array results in (batch_size, seq_length, seq_length)\n",
    "    # tells us roughly how important each element in the sequence is\n",
    "    # attention layer - what we pay attention to\n",
    "    # normalized using softmax\n",
    "# attention applied to value V array using matmul"
   ]
  },
  {
   "cell_type": "code",
   "execution_count": 4,
   "id": "ae7652a3-34c3-474f-9b19-872b8b9c2ee1",
   "metadata": {},
   "outputs": [],
   "source": [
    "from torch import Tensor\n",
    "import torch.nn.functional as F\n",
    "\n",
    "# omit Mask operation for simplicity\n",
    "def scaled_dot_product_attention(query: Tensor, key: Tensor, value: Tensor) -> Tensor:\n",
    "    # batch matmul only performed over last two dimensions\n",
    "    # bmm = batch matmul, transpose key tensor to batch_size, num_features, seq_len)\n",
    "    # temp represents raw attention scores\n",
    "    temp = query.bmm(key.transpose(1, 2))\n",
    "    # sqrt of dimension of query vectors \n",
    "    # done to prevent dot product values from growing too large as number of dimensions in query and key increase\n",
    "    # numerical instability if numbers becomes too small\n",
    "    scale = query.size(-1) ** 0.5\n",
    "    # compute softmax\n",
    "    # raw attention scores into probability distribution\n",
    "    softmax = F.softmax(temp / scale, dim=-1)\n",
    "    # matmul this softmax with the value tensor and return\n",
    "    # weighted sum of value vectors where weights are determined by attention scores from softmax\n",
    "    return softmax.bmm(value)\n",
    "    "
   ]
  },
  {
   "cell_type": "code",
   "execution_count": 5,
   "id": "78573d2d-3c23-4710-bd99-81fa8f65ca05",
   "metadata": {},
   "outputs": [],
   "source": [
    "# multi head attenion composed of several identical attention heads\n",
    "# each attention head contains 3 linear layers followed by a scaled dot product attention\n",
    "\n",
    "import torch\n",
    "from torch import nn\n",
    "\n",
    "class AttentionHead(nn.Module):\n",
    "    def __init__(self, dim_in: int, dim_q: int, dim_k: int):\n",
    "        super().__init__()\n",
    "        self.q = nn.Linear(dim_in, dim_q)\n",
    "        self.k = nn.Linear(dim_in, dim_k)\n",
    "        self.v = nn.Linear(dim_in, dim_k)\n",
    "\n",
    "    def forward(self, query: Tensor, key: Tensor, value: Tensor) -> Tensor:\n",
    "        return scaled_dot_product_attention(self.q(query), self.k(key), self.v(value))"
   ]
  },
  {
   "cell_type": "code",
   "execution_count": 6,
   "id": "c520e127-4c92-4861-ae6e-ce6a8a37b11e",
   "metadata": {},
   "outputs": [],
   "source": [
    "# multi head attention layer\n",
    "# combine num_heads different attention heads and a linear layer for output\n",
    "# Each attention head computes its own query, key and value arrays and applies scaled dot product attention\n",
    "# means each head can attend to a different part of the input sequence independent of others\n",
    "# Increasing attention heads allows us to \"pay attention\" to more parts of the sequence at once\n",
    "class MultiHeadAttention(nn.Module):\n",
    "    def __init__(self, num_heads: int, dim_in: int, dim_q: int, dim_k: int):\n",
    "        super().__init__()\n",
    "        self.heads = nn.ModuleList(\n",
    "            [AttentionHead(dim_in, dim_q, dim_k) for _ in range(num_heads)]\n",
    "        )\n",
    "        self.linear = nn.Linear(num_heads * dim_k, dim_in)\n",
    "\n",
    "    def forward(self, query: Tensor, key: Tensor, value: Tensor) -> Tensor:\n",
    "        return self.linear(\n",
    "            torch.cat([h(query, key, value) for h in self.heads], dim=-1)\n",
    "        )"
   ]
  },
  {
   "cell_type": "code",
   "execution_count": 7,
   "id": "2034ed6b-bbe4-4f4b-9977-bc4b6b68815f",
   "metadata": {},
   "outputs": [],
   "source": [
    "# position encoding\n",
    "# MulitHeadAttention has no trainable components that operate over the sequence dimension\n",
    "# Everything operates over the feature dimension so it is independent of sequence length\n",
    "# Provide positional information so that it knows about the relative position of data points in the input sequences\n",
    "\n",
    "def position_encoding(seq_len: int, dim_model: int, device: torch.device = torch.device(\"cpu\"), dtype: torch.dtype = torch.float32) -> Tensor:\n",
    "    # position tensor which represents positions of tokens in the sequence\n",
    "    # torch.arange generates a 1D tensor of integers from 0 to seq_len - 1\n",
    "    # reshape reshapes tensor to have shape (1, seq_len, 1) so it can be broadcast acorss all dimensions of the encoding in the next steps\n",
    "    pos = torch.arange(seq_len, dtype=dtype, device=device).reshape(1, -1, 1)\n",
    "    # creates dimension tensor which corresponds to each of the dim_odel dimensions in the encoding\n",
    "    # reshapes to shape (1, 1, dim_model)\n",
    "    dim = torch.arange(dim_model, dtype=dtype, device=device).reshape(1, 1, -1)\n",
    "    # computes phase for each position and dimension\n",
    "    # dim / model scales the dimension values based on total number of dimensions in the model\n",
    "    # 1e4 ** creates the scaling factor\n",
    "    # pos / divides the position by the scaling factor yielding a \"phase\"\n",
    "    phase = pos / (1e4 ** (dim / dim_model))\n",
    "    # alternate sine and cosine to help psotitional encoding capture odd and even frequency patterns for each dimension\n",
    "    return torch.where(dim.long() % 2 == 0, torch.sin(phase), torch.cos(phase))"
   ]
  },
  {
   "cell_type": "code",
   "execution_count": 12,
   "id": "28ef0c38-f738-4780-a1e0-57ff7c26b28c",
   "metadata": {},
   "outputs": [],
   "source": [
    "# transformer uses encoder-decoder architecture\n",
    "# encoder (left) processes input sequence and returns a feature vector (or memory vector)\n",
    "# decoder processes the target sequence and incorporates information from the encoder memory\n",
    "# output from decoder is model prediction"
   ]
  },
  {
   "cell_type": "code",
   "execution_count": null,
   "id": "f16e671f-e378-4dcc-90d1-67c134ea0ad8",
   "metadata": {},
   "outputs": [],
   "source": [
    "# each layer in encoder and decoder contains fully connected feed forward network \n",
    "    # consisting of two linear transformations and ReLU activation\n",
    "    # dimension of input and output is 512, inner layer has dimension of 2048"
   ]
  },
  {
   "cell_type": "code",
   "execution_count": 15,
   "id": "ce4240c5-f384-4371-8519-de7fd3b82a18",
   "metadata": {},
   "outputs": [],
   "source": [
    "def feed_forward(dim_input: int = 512, dim_feedforward: int = 2048) -> nn.Module:\n",
    "    return nn.Sequential(\n",
    "        nn.Linear(dim_input, dim_feedforward),\n",
    "        nn.ReLU(),\n",
    "        nn.Linear(dim_feedforward, dim_input)\n",
    "    )"
   ]
  },
  {
   "cell_type": "code",
   "execution_count": 16,
   "id": "074c4774-30b9-4a78-800d-4b3a605d62b3",
   "metadata": {},
   "outputs": [],
   "source": [
    "# what kind of normalization used? \n",
    "# output of each sub layer is LayerNorm(x + Sublayer(x)) where Sublayer(x) is the function implemented by the sub layer itself\n",
    "# Apply dropout to the output of each sub layer, before it is added to the sub layer input and normalized"
   ]
  },
  {
   "cell_type": "code",
   "execution_count": 25,
   "id": "c86de18d-b49b-4eb6-b7ff-bc8848e5f6ff",
   "metadata": {},
   "outputs": [],
   "source": [
    "class Residual(nn.Module):\n",
    "    def __init__(self, sublayer: nn.Module, dimension: int, dropout: float = 0.1):\n",
    "        super().__init__()\n",
    "        self.sublayer = sublayer\n",
    "        self.norm = nn.LayerNorm(dimension)\n",
    "        self.dropout = nn.Dropout(dropout)\n",
    "\n",
    "    def forward(self, *tensors: Tensor) -> Tensor:\n",
    "        # Assume query tensor is given first, so we can compute residual\n",
    "        # Matches signature on MultiHeadAttention\n",
    "        return self.norm(tensors[0] + self.dropout(self.sublayer(*tensors)))"
   ]
  },
  {
   "cell_type": "code",
   "execution_count": 19,
   "id": "cc53534a-b59c-48bb-aea6-8828a81ef8e1",
   "metadata": {},
   "outputs": [],
   "source": [
    "class TransformerEncoderLayer(nn.Module):\n",
    "    def __init__(self, dim_model: int = 512, num_heads: int = 6, dim_feedforward: int = 2048, dropout: float = 0.1,):\n",
    "        super().__init__()\n",
    "        dim_q = dim_k = max(dim_model // num_heads, 1)\n",
    "        self.attention = Residual(MultiHeadAttention(num_heads, dim_model, dim_q, dim_k), dimension=dim_model, dropout=dropout,)\n",
    "        self.feed_forward = Residual(feed_forward(dim_model, dim_feedforward), dimension=dim_model, dropout=dropout,)\n",
    "        \n",
    "    def forward(self, src: Tensor) -> Tensor:\n",
    "        src = self.attention(src, src, src)\n",
    "        return self.feed_forward(src)\n",
    "\n",
    "class TransformerEncoder(nn.Module):\n",
    "    def __init__(self, num_layers: int = 6, dim_model: int = 512, num_heads: int = 8, dim_feedforward: int = 2048, dropout: float = 0.1,):\n",
    "        super().__init__()\n",
    "        self.layers = nn.ModuleList(\n",
    "            [\n",
    "                TransformerEncoderLayer(dim_model, num_heads, dim_feedforward, dropout)\n",
    "                for _ in range(num_layers)\n",
    "            ]\n",
    "        )\n",
    "\n",
    "    def forward(self, src: Tensor) -> Tensor:\n",
    "        seq_len, dimension = src.size(1), src.size(2)\n",
    "        src += position_encoding(seq_len, dimension)\n",
    "        for layer in self.layers:\n",
    "            src = layer(src)\n",
    "\n",
    "        return src"
   ]
  },
  {
   "cell_type": "code",
   "execution_count": 27,
   "id": "db640bb4-f809-44b1-98e3-f2c3f16ca63f",
   "metadata": {},
   "outputs": [],
   "source": [
    "class TransformerDecoderLayer(nn.Module):\n",
    "    def __init__(self, dim_model: int = 512, num_heads: int = 6, dim_feedforward: int = 2048, dropout: float = 0.1):\n",
    "        super().__init__()\n",
    "        dim_q = dim_k = max(dim_model // num_heads, 1)\n",
    "        self.attention_1 = Residual(MultiHeadAttention(num_heads, dim_model, dim_q, dim_k), dimension=dim_model, dropout=dropout,)\n",
    "        self.attention_2 = Residual(MultiHeadAttention(num_heads, dim_model, dim_q, dim_k), dimension=dim_model, dropout=dropout,)\n",
    "        self.feed_forward = Residual(feed_forward(dim_model, dim_feedforward), dimension=dim_model, dropout=dropout)\n",
    "\n",
    "    def forward(self, tgt: Tensor, memory: Tensor) -> Tensor:\n",
    "        tgt = self.attention_1(tgt, tgt, tgt)\n",
    "        tgt = self.attention_2(tgt, memory, memory)\n",
    "        return self.feed_forward(tgt)\n",
    "\n",
    "class TransformerDecoder(nn.Module):\n",
    "    def __init__(self, num_layers: int = 6, dim_model: int = 512, num_heads: int = 8, dim_feedforward: int = 2048, dropout: float = 0.1,):\n",
    "        super().__init__()\n",
    "        self.layers = nn.ModuleList(\n",
    "            [\n",
    "                TransformerDecoderLayer(dim_model, num_heads, dim_feedforward, dropout)\n",
    "                for _ in range(num_layers)\n",
    "            ]\n",
    "        )\n",
    "        self.linear = nn.Linear(dim_model, dim_model)\n",
    "\n",
    "    def forward(self, tgt: Tensor, memory: Tensor) -> Tensor:\n",
    "        seq_len, dimension = tgt.size(1), tgt.size(2)\n",
    "        tgt += position_encoding(seq_len, dimension)\n",
    "        for layer in self.layers:\n",
    "            tgt = layer(tgt, memory)\n",
    "\n",
    "        return torch.softmax(self.linear(tgt), dim=-1)\n",
    "        \n",
    "        "
   ]
  },
  {
   "cell_type": "code",
   "execution_count": 21,
   "id": "befe155c-5a5a-4397-94e2-03509f95afaf",
   "metadata": {},
   "outputs": [],
   "source": [
    "class Transformer(nn.Module):\n",
    "    def __init__(\n",
    "        self, \n",
    "        num_encoder_layers: int = 6, \n",
    "        num_decoder_layers: int = 6, \n",
    "        dim_model: int = 512, \n",
    "        num_heads: int = 6, \n",
    "        dim_feedforward: int = 2048, \n",
    "        dropout: float = 0.1, \n",
    "        activation: nn.Module = nn.ReLU(),\n",
    "    ):\n",
    "        super().__init__()\n",
    "        self.encoder = TransformerEncoder(\n",
    "            num_layers=num_encoder_layers,\n",
    "            dim_model=dim_model,\n",
    "            num_heads=num_heads,\n",
    "            dim_feedforward=dim_feedforward,\n",
    "            dropout=dropout\n",
    "        )\n",
    "        self.decoder = TransformerDecoder(\n",
    "            num_layers=num_decoder_layers,\n",
    "            dim_model=dim_model,\n",
    "            num_heads=num_heads,\n",
    "            dim_feedforward=dim_feedforward,\n",
    "            dropout=dropout,\n",
    "        )\n",
    "\n",
    "    def forward(self, src: Tensor, tgt: Tensor) -> Tensor:\n",
    "        return self.decoder(tgt, self.encoder(src))\n",
    "        "
   ]
  },
  {
   "cell_type": "code",
   "execution_count": 28,
   "id": "51c9d6ae-b0fd-4077-bccf-63552881ceaf",
   "metadata": {},
   "outputs": [
    {
     "name": "stdout",
     "output_type": "stream",
     "text": [
      "torch.Size([64, 16, 512])\n"
     ]
    }
   ],
   "source": [
    "src = torch.randn(64, 32, 512)\n",
    "tgt = torch.randn(64, 16, 512)\n",
    "out = Transformer()(src, tgt)\n",
    "print(out.shape)"
   ]
  },
  {
   "cell_type": "code",
   "execution_count": null,
   "id": "fe666b12-2e64-4a06-afaa-015ab4afc273",
   "metadata": {},
   "outputs": [],
   "source": []
  }
 ],
 "metadata": {
  "kernelspec": {
   "display_name": "Python 3 (ipykernel)",
   "language": "python",
   "name": "python3"
  },
  "language_info": {
   "codemirror_mode": {
    "name": "ipython",
    "version": 3
   },
   "file_extension": ".py",
   "mimetype": "text/x-python",
   "name": "python",
   "nbconvert_exporter": "python",
   "pygments_lexer": "ipython3",
   "version": "3.10.12"
  }
 },
 "nbformat": 4,
 "nbformat_minor": 5
}
