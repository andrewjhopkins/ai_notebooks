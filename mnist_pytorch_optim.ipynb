{
 "cells": [
  {
   "cell_type": "code",
   "execution_count": 78,
   "id": "a57719a1-eeb2-4c61-9f67-c82081b76056",
   "metadata": {},
   "outputs": [],
   "source": [
    "# MNIST in PyTorch with an optimizer\n",
    "\n",
    "import torch\n",
    "import torch.nn\n",
    "import torch.nn.functional as F\n",
    "import requests, gzip, os, hashlib, tempfile\n",
    "import numpy as np\n",
    "import random"
   ]
  },
  {
   "cell_type": "code",
   "execution_count": 79,
   "id": "557470dc-5829-457e-bfa0-cbec01a182c7",
   "metadata": {},
   "outputs": [],
   "source": [
    "def fetch(url):\n",
    "    temp_dir = tempfile.gettempdir()\n",
    "    file_path = os.path.join(temp_dir, hashlib.md5(url.encode('utf-8')).hexdigest())\n",
    "\n",
    "    # if exists don't redownload\n",
    "    if os.path.isfile(file_path):\n",
    "        with open(file_path, \"rb\") as file:\n",
    "            data = file.read()\n",
    "    else:\n",
    "        with open(file_path, \"wb\") as file:\n",
    "            data = requests.get(url).content\n",
    "            file.write(data)\n",
    "\n",
    "    return np.frombuffer(gzip.decompress(data), dtype=np.uint8).copy()"
   ]
  },
  {
   "cell_type": "code",
   "execution_count": 80,
   "id": "4f7c004d-6215-4637-93fc-80b3b815f7ce",
   "metadata": {},
   "outputs": [],
   "source": [
    "class mnist_model(torch.nn.Module):\n",
    "    def __init__(self):\n",
    "        super(mnist_model, self).__init__()\n",
    "        self.l1 = torch.nn.Linear(784, 128, bias=True)\n",
    "        self.l2 = torch.nn.Linear(128, 10, bias=True)\n",
    "        self.sm = torch.nn.LogSoftmax(dim=1)\n",
    "    def forward(self, x):\n",
    "        a1 = F.relu(self.l1(x))\n",
    "        a2 = self.sm(self.l2(a1))\n",
    "        return a2"
   ]
  },
  {
   "cell_type": "code",
   "execution_count": 81,
   "id": "7fc5334f-f743-4bfb-9961-517ae523a77d",
   "metadata": {},
   "outputs": [],
   "source": [
    "class MNIST_MLP():\n",
    "    def __init__(self, device):\n",
    "        self.model = mnist_model().to(device)\n",
    "        self.nllLoss = torch.nn.NLLLoss(reduction=\"mean\")\n",
    "        \n",
    "    def train(self, x, y, batch_size, iterations, learning_rate):\n",
    "        y = y.long() if isinstance(y, torch.Tensor) else torch.tensor(y, dtype=torch.long)\n",
    "\n",
    "        # normalize\n",
    "        if x.max() > 1.0:\n",
    "            x = x / 255.0\n",
    "\n",
    "        optim = torch.optim.SGD(self.model.parameters(), lr=learning_rate, momentum=0)\n",
    "\n",
    "        for _ in range(iterations):\n",
    "            sample_start = random.randint(0, len(x) - batch_size)\n",
    "            x_sample = x[sample_start:sample_start + batch_size]\n",
    "            y_sample = y[sample_start:sample_start + batch_size]\n",
    "            \n",
    "            self.model.zero_grad()\n",
    "            out = self.model(x_sample)\n",
    "            loss = self.nllLoss(out, y_sample)\n",
    "            loss.backward()\n",
    "            optim.step()\n",
    "\n",
    "        print(f\"training loss: {loss.item()}\")\n",
    "\n",
    "    def sample(self, x, y):\n",
    "        if x.max() > 1.0:\n",
    "            x = x / 255.0\n",
    "        y = y.long() if isinstance(y, torch.Tensor) else torch.tensor(y, dtype=torch.long)\n",
    "        softmax = self.model(x)\n",
    "\n",
    "        correct = 0\n",
    "        for prediction, actual in zip(softmax, y):\n",
    "            if torch.argmax(prediction) == actual:\n",
    "                correct += 1\n",
    "\n",
    "        accuracy = correct / len(y)\n",
    "        print(f\"accuracy on test set: {accuracy}\")\n",
    "        \n",
    "        loss = self.nllLoss(softmax, y)\n",
    "        print(f\"sample loss: {loss.item()}\")"
   ]
  },
  {
   "cell_type": "code",
   "execution_count": 87,
   "id": "f9132fa9-c329-4082-8d85-74680e03a645",
   "metadata": {},
   "outputs": [],
   "source": [
    "import time\n",
    "\n",
    "def run_mnist(use_cuda):\n",
    "    x_train = torch.Tensor(fetch(\"https://raw.githubusercontent.com/fgnt/mnist/master/train-images-idx3-ubyte.gz\")[16:].reshape(-1, 28, 28))\n",
    "    y_train = torch.Tensor(fetch(\"https://raw.githubusercontent.com/fgnt/mnist/master/train-labels-idx1-ubyte.gz\")[8:])\n",
    "    x_test = torch.Tensor(fetch(\"https://raw.githubusercontent.com/fgnt/mnist/master/t10k-images-idx3-ubyte.gz\")[16:].reshape(-1, 28, 28))\n",
    "    y_test = torch.Tensor(fetch(\"https://raw.githubusercontent.com/fgnt/mnist/master/t10k-labels-idx1-ubyte.gz\")[8:])\n",
    "\n",
    "    x_train = x_train.view(60000, -1)\n",
    "    x_test = x_test.view(10000, -1)\n",
    "    \n",
    "    device = torch.device(\"cpu\")\n",
    "    \n",
    "    if use_cuda:\n",
    "        device = torch.device(\"cuda\") if torch.cuda.is_available() else torch.device(\"cpu\")\n",
    "    \n",
    "    if device == torch.device(\"cuda\"):\n",
    "        print(\"Using CUDA\")\n",
    "        x_train = x_train.to(\"cuda\")\n",
    "        y_train = y_train.to(\"cuda\")\n",
    "        x_test = x_test.to(\"cuda\")\n",
    "        y_test = y_test.to(\"cuda\")\n",
    "    else:\n",
    "        print(\"Using CPU\")\n",
    "\n",
    "    mnist_mlp = MNIST_MLP(device)\n",
    "        \n",
    "    start = time.time()\n",
    "    mnist_mlp.train(x_train, y_train, 60, 200000, 0.01)\n",
    "    mnist_mlp.sample(x_test, y_test)\n",
    "    print(\"--- %s seconds ---\" % (time.time() - start))"
   ]
  },
  {
   "cell_type": "code",
   "execution_count": 88,
   "id": "39e1d0d4-e058-47f6-9ce3-c270ff82b76b",
   "metadata": {},
   "outputs": [
    {
     "name": "stdout",
     "output_type": "stream",
     "text": [
      "Using CPU\n",
      "training loss: 0.010470333509147167\n",
      "accuracy on test set: 0.9798\n",
      "sample loss: 0.06776325404644012\n",
      "--- 91.73779916763306 seconds ---\n"
     ]
    }
   ],
   "source": [
    "run_mnist(False)"
   ]
  },
  {
   "cell_type": "code",
   "execution_count": 89,
   "id": "16da9a6f-c249-4353-a13b-b28d32ce3dcc",
   "metadata": {},
   "outputs": [
    {
     "name": "stdout",
     "output_type": "stream",
     "text": [
      "Using CUDA\n",
      "training loss: 0.013014286756515503\n",
      "accuracy on test set: 0.98\n",
      "sample loss: 0.07056288421154022\n",
      "--- 137.29116415977478 seconds ---\n"
     ]
    }
   ],
   "source": [
    "run_mnist(True)"
   ]
  },
  {
   "cell_type": "code",
   "execution_count": null,
   "id": "a34f6440-36f8-4742-9188-aa0602174535",
   "metadata": {},
   "outputs": [],
   "source": [
    "# CUDA slower on model this size"
   ]
  }
 ],
 "metadata": {
  "kernelspec": {
   "display_name": "Python 3 (ipykernel)",
   "language": "python",
   "name": "python3"
  },
  "language_info": {
   "codemirror_mode": {
    "name": "ipython",
    "version": 3
   },
   "file_extension": ".py",
   "mimetype": "text/x-python",
   "name": "python",
   "nbconvert_exporter": "python",
   "pygments_lexer": "ipython3",
   "version": "3.10.12"
  }
 },
 "nbformat": 4,
 "nbformat_minor": 5
}
